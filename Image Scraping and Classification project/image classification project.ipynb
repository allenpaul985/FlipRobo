{
 "cells": [
  {
   "cell_type": "code",
   "execution_count": null,
   "metadata": {},
   "outputs": [],
   "source": [
    "from keras.models import Sequential\n",
    "from keras.layers import Conv2D, MaxPooling2D\n",
    "from keras.layers import Activation, Dropout, Flatten, Dense\n",
    "from keras.preprocessing.image import ImageDataGenerator\n",
    "import pandas as pd"
   ]
  },
  {
   "cell_type": "code",
   "execution_count": 3,
   "metadata": {},
   "outputs": [
    {
     "name": "stdout",
     "output_type": "stream",
     "text": [
      "Model: \"sequential\"\n",
      "_________________________________________________________________\n",
      "Layer (type)                 Output Shape              Param #   \n",
      "=================================================================\n",
      "conv2d (Conv2D)              (None, 298, 298, 32)      896       \n",
      "_________________________________________________________________\n",
      "activation (Activation)      (None, 298, 298, 32)      0         \n",
      "_________________________________________________________________\n",
      "max_pooling2d (MaxPooling2D) (None, 149, 149, 32)      0         \n",
      "_________________________________________________________________\n",
      "conv2d_1 (Conv2D)            (None, 147, 147, 64)      18496     \n",
      "_________________________________________________________________\n",
      "activation_1 (Activation)    (None, 147, 147, 64)      0         \n",
      "_________________________________________________________________\n",
      "max_pooling2d_1 (MaxPooling2 (None, 73, 73, 64)        0         \n",
      "_________________________________________________________________\n",
      "conv2d_2 (Conv2D)            (None, 71, 71, 128)       73856     \n",
      "_________________________________________________________________\n",
      "activation_2 (Activation)    (None, 71, 71, 128)       0         \n",
      "_________________________________________________________________\n",
      "max_pooling2d_2 (MaxPooling2 (None, 35, 35, 128)       0         \n",
      "_________________________________________________________________\n",
      "flatten (Flatten)            (None, 156800)            0         \n",
      "_________________________________________________________________\n",
      "dense (Dense)                (None, 64)                10035264  \n",
      "_________________________________________________________________\n",
      "activation_3 (Activation)    (None, 64)                0         \n",
      "_________________________________________________________________\n",
      "dropout (Dropout)            (None, 64)                0         \n",
      "_________________________________________________________________\n",
      "dense_1 (Dense)              (None, 3)                 195       \n",
      "_________________________________________________________________\n",
      "activation_4 (Activation)    (None, 3)                 0         \n",
      "=================================================================\n",
      "Total params: 10,128,707\n",
      "Trainable params: 10,128,707\n",
      "Non-trainable params: 0\n",
      "_________________________________________________________________\n"
     ]
    }
   ],
   "source": [
    "# Import the Sequential model and layers\n",
    "from keras.models import Sequential\n",
    "from keras.layers import Conv2D, MaxPooling2D\n",
    "from keras.layers import Activation, Dropout, Flatten, Dense\n",
    "\n",
    "model = Sequential()\n",
    "model.add(Conv2D(32, (3, 3), input_shape=(300, 300, 3)))\n",
    "model.add(Activation('relu'))\n",
    "model.add(MaxPooling2D(pool_size=(2, 2), padding = 'same'))\n",
    "\n",
    "model.add(Conv2D(64, (3, 3)))\n",
    "model.add(Activation('relu'))\n",
    "model.add(MaxPooling2D(pool_size=(2, 2)))\n",
    "\n",
    "model.add(Conv2D(128, (3, 3)))\n",
    "model.add(Activation('relu'))\n",
    "model.add(MaxPooling2D(pool_size=(2, 2)))\n",
    "\n",
    "# the model so far outputs 3D feature maps (height, width, features)\n",
    "\n",
    "model.add(Flatten())  # this converts our 3D feature maps to 1D feature vectors\n",
    "model.add(Dense(64))\n",
    "model.add(Activation('relu'))\n",
    "model.add(Dropout(0.5))\n",
    "model.add(Dense(3))\n",
    "model.add(Activation('sigmoid'))\n",
    "\n",
    "model.compile(loss='categorical_crossentropy', metrics=['accuracy'], optimizer='adam')\n",
    "model.summary()\n",
    "\n",
    "batch_size = 5"
   ]
  },
  {
   "cell_type": "code",
   "execution_count": 4,
   "metadata": {},
   "outputs": [
    {
     "name": "stdout",
     "output_type": "stream",
     "text": [
      "Found 723 images belonging to 3 classes.\n",
      "Found 60 images belonging to 3 classes.\n"
     ]
    }
   ],
   "source": [
    "# Training Augmentation configuration\n",
    "from keras.preprocessing.image import ImageDataGenerator\n",
    "\n",
    "train_datagen = ImageDataGenerator(rescale = 1./255, \n",
    "                                   shear_range = 0.2,\n",
    "                                   zoom_range = 0.2,\n",
    "                                   horizontal_flip = True)\n",
    "\n",
    "# Testing Augmentation - Only Rescaling\n",
    "test_datagen = ImageDataGenerator(rescale = 1./255)\n",
    "\n",
    "# Generates batches of Augmented Image data\n",
    "#this is a generator that will read pictures found in C:\\\\Users\\\\allen\\\\train and indefinitely generate \n",
    "#batches of augmented image data\n",
    "train_generator = train_datagen.flow_from_directory('C:\\\\Users\\\\allen\\\\train',  # importing images\n",
    "                                                    target_size = (300, 300), # all images will be resized to 300x300\n",
    "                                                    batch_size = batch_size,\n",
    "                                                    class_mode = 'categorical') \n",
    "\n",
    "# Generator for validation data\n",
    "validation_generator = test_datagen.flow_from_directory('C:\\\\Users\\\\allen\\\\test', # importing images\n",
    "                                                        target_size = (300, 300),\n",
    "                                                        batch_size = batch_size,\n",
    "                                                        class_mode = 'categorical')\n"
   ]
  },
  {
   "cell_type": "code",
   "execution_count": 5,
   "metadata": {},
   "outputs": [
    {
     "name": "stderr",
     "output_type": "stream",
     "text": [
      "C:\\Users\\allen\\anaconda3\\lib\\site-packages\\keras\\engine\\training.py:1972: UserWarning: `Model.fit_generator` is deprecated and will be removed in a future version. Please use `Model.fit`, which supports generators.\n",
      "  warnings.warn('`Model.fit_generator` is deprecated and '\n"
     ]
    },
    {
     "name": "stdout",
     "output_type": "stream",
     "text": [
      "Epoch 1/20\n",
      "145/145 [==============================] - 95s 638ms/step - loss: 0.8946 - accuracy: 0.5740 - val_loss: 0.6010 - val_accuracy: 0.6500\n",
      "Epoch 2/20\n",
      "145/145 [==============================] - 95s 655ms/step - loss: 0.6388 - accuracy: 0.6625 - val_loss: 0.4178 - val_accuracy: 0.8167\n",
      "Epoch 3/20\n",
      "145/145 [==============================] - 91s 626ms/step - loss: 0.5462 - accuracy: 0.7261 - val_loss: 0.4798 - val_accuracy: 0.7167\n",
      "Epoch 4/20\n",
      "145/145 [==============================] - 91s 627ms/step - loss: 0.4819 - accuracy: 0.7566 - val_loss: 0.7658 - val_accuracy: 0.7167\n",
      "Epoch 5/20\n",
      "145/145 [==============================] - 90s 623ms/step - loss: 0.4403 - accuracy: 0.7732 - val_loss: 0.3599 - val_accuracy: 0.8500\n",
      "Epoch 6/20\n",
      "145/145 [==============================] - 92s 631ms/step - loss: 0.6004 - accuracy: 0.7303 - val_loss: 0.6408 - val_accuracy: 0.7000\n",
      "Epoch 7/20\n",
      "145/145 [==============================] - 91s 625ms/step - loss: 0.4855 - accuracy: 0.7801 - val_loss: 0.4228 - val_accuracy: 0.7667\n",
      "Epoch 8/20\n",
      "145/145 [==============================] - 92s 635ms/step - loss: 0.4496 - accuracy: 0.7842 - val_loss: 0.4722 - val_accuracy: 0.7167\n",
      "Epoch 9/20\n",
      "145/145 [==============================] - 94s 651ms/step - loss: 0.4776 - accuracy: 0.7911 - val_loss: 0.6892 - val_accuracy: 0.7667\n",
      "Epoch 10/20\n",
      "145/145 [==============================] - 91s 628ms/step - loss: 0.4325 - accuracy: 0.7911 - val_loss: 0.3320 - val_accuracy: 0.8333\n",
      "Epoch 11/20\n",
      "145/145 [==============================] - 93s 638ms/step - loss: 0.3887 - accuracy: 0.8285 - val_loss: 0.3658 - val_accuracy: 0.8167\n",
      "Epoch 12/20\n",
      "145/145 [==============================] - 104s 720ms/step - loss: 0.3698 - accuracy: 0.8077 - val_loss: 0.3727 - val_accuracy: 0.8167\n",
      "Epoch 13/20\n",
      "145/145 [==============================] - 99s 681ms/step - loss: 0.3359 - accuracy: 0.8409 - val_loss: 0.3845 - val_accuracy: 0.8167\n",
      "Epoch 14/20\n",
      "145/145 [==============================] - 94s 648ms/step - loss: 0.3647 - accuracy: 0.8506 - val_loss: 0.3739 - val_accuracy: 0.8167\n",
      "Epoch 15/20\n",
      "145/145 [==============================] - 95s 655ms/step - loss: 0.3409 - accuracy: 0.8423 - val_loss: 0.5056 - val_accuracy: 0.8000\n",
      "Epoch 16/20\n",
      "145/145 [==============================] - 99s 682ms/step - loss: 0.3750 - accuracy: 0.8257 - val_loss: 0.8544 - val_accuracy: 0.7333\n",
      "Epoch 17/20\n",
      "145/145 [==============================] - 98s 675ms/step - loss: 0.4050 - accuracy: 0.7967 - val_loss: 0.5150 - val_accuracy: 0.7000\n",
      "Epoch 18/20\n",
      "145/145 [==============================] - 97s 672ms/step - loss: 0.3773 - accuracy: 0.8133 - val_loss: 0.3099 - val_accuracy: 0.8333\n",
      "Epoch 19/20\n",
      "145/145 [==============================] - 97s 669ms/step - loss: 0.3790 - accuracy: 0.8271 - val_loss: 0.3063 - val_accuracy: 0.8833\n",
      "Epoch 20/20\n",
      "145/145 [==============================] - 96s 661ms/step - loss: 0.3248 - accuracy: 0.8506 - val_loss: 0.3408 - val_accuracy: 0.8333\n",
      "12/12 [==============================] - 2s 178ms/step - loss: 0.3408 - accuracy: 0.8333\n",
      "\n",
      "Model's Evaluation Metrics: \n",
      "---------------------------\n",
      "Accuracy: 0.8333333134651184 \n",
      "Loss: 0.3408423066139221\n"
     ]
    }
   ],
   "source": [
    "# Fit the model on Training data\n",
    "model.fit_generator(train_generator,\n",
    "                    epochs = 20,\n",
    "                    validation_data = validation_generator,\n",
    "                    verbose = 1)\n",
    "\n",
    "# Evaluating model performance on Testing data\n",
    "loss, accuracy = model.evaluate(validation_generator)\n",
    "\n",
    "print(\"\\nModel's Evaluation Metrics: \")\n",
    "print(\"---------------------------\")\n",
    "print(\"Accuracy: {} \\nLoss: {}\".format(accuracy, loss))"
   ]
  },
  {
   "cell_type": "markdown",
   "metadata": {},
   "source": [
    "Here we can see that the model has an accuracy of 83.33% and loss of 0.34. Therefore the model is performing well."
   ]
  },
  {
   "cell_type": "code",
   "execution_count": 15,
   "metadata": {},
   "outputs": [],
   "source": [
    "model.save_weights('first_try_image.h5') # saving the model"
   ]
  },
  {
   "cell_type": "code",
   "execution_count": 6,
   "metadata": {},
   "outputs": [
    {
     "name": "stdout",
     "output_type": "stream",
     "text": [
      "Found 90 images belonging to 1 classes.\n"
     ]
    }
   ],
   "source": [
    "# predicting the class of images using the trained model\n",
    "predict_generator = ImageDataGenerator(rescale = 1./255)\n",
    "\n",
    "predict_generator = predict_generator.flow_from_directory('C:\\\\Users\\\\allen\\\\predict', \n",
    "                                                        target_size = (300, 300),\n",
    "                                                        batch_size = batch_size,\n",
    "                                                        class_mode = 'categorical')"
   ]
  },
  {
   "cell_type": "code",
   "execution_count": 7,
   "metadata": {},
   "outputs": [],
   "source": [
    "predictions = model.predict(predict_generator)"
   ]
  },
  {
   "cell_type": "code",
   "execution_count": 10,
   "metadata": {},
   "outputs": [],
   "source": [
    "import pandas as pd"
   ]
  },
  {
   "cell_type": "code",
   "execution_count": 11,
   "metadata": {},
   "outputs": [],
   "source": [
    "Predictions = pd.DataFrame(predictions, columns=['Jeans', 'Saree','Trouser'])"
   ]
  },
  {
   "cell_type": "code",
   "execution_count": 12,
   "metadata": {},
   "outputs": [
    {
     "data": {
      "text/html": [
       "<div>\n",
       "<style scoped>\n",
       "    .dataframe tbody tr th:only-of-type {\n",
       "        vertical-align: middle;\n",
       "    }\n",
       "\n",
       "    .dataframe tbody tr th {\n",
       "        vertical-align: top;\n",
       "    }\n",
       "\n",
       "    .dataframe thead th {\n",
       "        text-align: right;\n",
       "    }\n",
       "</style>\n",
       "<table border=\"1\" class=\"dataframe\">\n",
       "  <thead>\n",
       "    <tr style=\"text-align: right;\">\n",
       "      <th></th>\n",
       "      <th>Jeans</th>\n",
       "      <th>Saree</th>\n",
       "      <th>Trouser</th>\n",
       "    </tr>\n",
       "  </thead>\n",
       "  <tbody>\n",
       "    <tr>\n",
       "      <th>0</th>\n",
       "      <td>9.094689e-01</td>\n",
       "      <td>0.048458</td>\n",
       "      <td>0.999477</td>\n",
       "    </tr>\n",
       "    <tr>\n",
       "      <th>1</th>\n",
       "      <td>9.999417e-01</td>\n",
       "      <td>0.001092</td>\n",
       "      <td>0.999627</td>\n",
       "    </tr>\n",
       "    <tr>\n",
       "      <th>2</th>\n",
       "      <td>7.693771e-01</td>\n",
       "      <td>0.003275</td>\n",
       "      <td>0.999968</td>\n",
       "    </tr>\n",
       "    <tr>\n",
       "      <th>3</th>\n",
       "      <td>9.988963e-01</td>\n",
       "      <td>0.017502</td>\n",
       "      <td>0.999119</td>\n",
       "    </tr>\n",
       "    <tr>\n",
       "      <th>4</th>\n",
       "      <td>9.998775e-01</td>\n",
       "      <td>0.000278</td>\n",
       "      <td>0.997930</td>\n",
       "    </tr>\n",
       "    <tr>\n",
       "      <th>...</th>\n",
       "      <td>...</td>\n",
       "      <td>...</td>\n",
       "      <td>...</td>\n",
       "    </tr>\n",
       "    <tr>\n",
       "      <th>85</th>\n",
       "      <td>9.619828e-01</td>\n",
       "      <td>0.353145</td>\n",
       "      <td>0.966463</td>\n",
       "    </tr>\n",
       "    <tr>\n",
       "      <th>86</th>\n",
       "      <td>9.999788e-01</td>\n",
       "      <td>0.000127</td>\n",
       "      <td>0.999689</td>\n",
       "    </tr>\n",
       "    <tr>\n",
       "      <th>87</th>\n",
       "      <td>3.542349e-01</td>\n",
       "      <td>0.163881</td>\n",
       "      <td>0.994196</td>\n",
       "    </tr>\n",
       "    <tr>\n",
       "      <th>88</th>\n",
       "      <td>8.179051e-07</td>\n",
       "      <td>1.000000</td>\n",
       "      <td>0.482292</td>\n",
       "    </tr>\n",
       "    <tr>\n",
       "      <th>89</th>\n",
       "      <td>9.984024e-01</td>\n",
       "      <td>0.004519</td>\n",
       "      <td>0.995326</td>\n",
       "    </tr>\n",
       "  </tbody>\n",
       "</table>\n",
       "<p>90 rows × 3 columns</p>\n",
       "</div>"
      ],
      "text/plain": [
       "           Jeans     Saree   Trouser\n",
       "0   9.094689e-01  0.048458  0.999477\n",
       "1   9.999417e-01  0.001092  0.999627\n",
       "2   7.693771e-01  0.003275  0.999968\n",
       "3   9.988963e-01  0.017502  0.999119\n",
       "4   9.998775e-01  0.000278  0.997930\n",
       "..           ...       ...       ...\n",
       "85  9.619828e-01  0.353145  0.966463\n",
       "86  9.999788e-01  0.000127  0.999689\n",
       "87  3.542349e-01  0.163881  0.994196\n",
       "88  8.179051e-07  1.000000  0.482292\n",
       "89  9.984024e-01  0.004519  0.995326\n",
       "\n",
       "[90 rows x 3 columns]"
      ]
     },
     "execution_count": 12,
     "metadata": {},
     "output_type": "execute_result"
    }
   ],
   "source": [
    "Predictions # predicted data"
   ]
  },
  {
   "cell_type": "code",
   "execution_count": null,
   "metadata": {},
   "outputs": [],
   "source": []
  }
 ],
 "metadata": {
  "kernelspec": {
   "display_name": "Python 3",
   "language": "python",
   "name": "python3"
  },
  "language_info": {
   "codemirror_mode": {
    "name": "ipython",
    "version": 3
   },
   "file_extension": ".py",
   "mimetype": "text/x-python",
   "name": "python",
   "nbconvert_exporter": "python",
   "pygments_lexer": "ipython3",
   "version": "3.7.6"
  }
 },
 "nbformat": 4,
 "nbformat_minor": 4
}
